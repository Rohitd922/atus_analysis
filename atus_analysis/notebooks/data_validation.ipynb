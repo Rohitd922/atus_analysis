{
 "cells": [
  {
   "cell_type": "code",
   "execution_count": 1,
   "id": "023f005b-3151-4b8f-845c-3ad3342d7101",
   "metadata": {
    "tags": []
   },
   "outputs": [],
   "source": [
    "import pandas as pd\n",
    "import numpy as np\n",
    "import matplotlib.pyplot as plt\n",
    "import os"
   ]
  },
  {
   "cell_type": "code",
   "execution_count": 3,
   "id": "9270fa46-12f6-4df1-97a2-84fdf93da570",
   "metadata": {},
   "outputs": [],
   "source": [
    "import pyarrow.parquet as pq\n"
   ]
  },
  {
   "cell_type": "code",
   "execution_count": 4,
   "id": "41ebb9bd-f015-4227-9b56-24652f0b818d",
   "metadata": {
    "tags": []
   },
   "outputs": [],
   "source": [
    "project = \"C:\\\\Users\\\\dube.rohit\\\\OneDrive - Texas A&M University\\\\ATUS-analysis-main\\\\ATUS analysis main\\\\atus_analysis\""
   ]
  },
  {
   "cell_type": "code",
   "execution_count": 5,
   "id": "52e9c190-8f5a-40cf-bfd3-7cca04b67395",
   "metadata": {
    "tags": []
   },
   "outputs": [
    {
     "data": {
      "text/plain": [
       "['activity.parquet', 'respondent.parquet']"
      ]
     },
     "execution_count": 5,
     "metadata": {},
     "output_type": "execute_result"
    }
   ],
   "source": [
    "os.listdir(project+'\\\\data\\\\processed')"
   ]
  },
  {
   "cell_type": "code",
   "execution_count": 10,
   "id": "308aafd0-e837-4dce-87a9-a3d66b422fd2",
   "metadata": {
    "tags": []
   },
   "outputs": [],
   "source": [
    "#df_act = pd.read_parquet(project+'\\\\data\\\\sequences\\\\ragged_sequences.parquet')\n",
    "act_np = np.load(project+'\\\\data\\\\sequences\\\\grid_10min.npy')\n",
    "grid_id = pd.read_csv(project+'\\\\data\\\\sequences\\\\grid_ids.csv')"
   ]
  },
  {
   "cell_type": "code",
   "execution_count": 11,
   "id": "6384cd89-d000-4790-95c7-ebb6e8bbc229",
   "metadata": {
    "tags": []
   },
   "outputs": [
    {
     "data": {
      "text/plain": [
       "(252808, 144)"
      ]
     },
     "execution_count": 11,
     "metadata": {},
     "output_type": "execute_result"
    }
   ],
   "source": [
    "act_np.shape"
   ]
  },
  {
   "cell_type": "code",
   "execution_count": 12,
   "id": "1aa16308-3756-440c-b572-a0c3f1a9a7ab",
   "metadata": {
    "tags": []
   },
   "outputs": [
    {
     "data": {
      "text/plain": [
       "(252808, 1)"
      ]
     },
     "execution_count": 12,
     "metadata": {},
     "output_type": "execute_result"
    }
   ],
   "source": [
    "grid_id.shape"
   ]
  },
  {
   "cell_type": "code",
   "execution_count": null,
   "id": "17fd046f-42cd-4b79-8358-8969f9ab4ee5",
   "metadata": {},
   "outputs": [],
   "source": []
  }
 ],
 "metadata": {
  "kernelspec": {
   "display_name": "bootstrap_pi",
   "language": "python",
   "name": "bootstrap_pi"
  },
  "language_info": {
   "codemirror_mode": {
    "name": "ipython",
    "version": 3
   },
   "file_extension": ".py",
   "mimetype": "text/x-python",
   "name": "python",
   "nbconvert_exporter": "python",
   "pygments_lexer": "ipython3",
   "version": "3.10.14"
  }
 },
 "nbformat": 4,
 "nbformat_minor": 5
}
