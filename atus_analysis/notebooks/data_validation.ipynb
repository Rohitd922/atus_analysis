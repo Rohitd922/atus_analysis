{
 "cells": [
  {
   "cell_type": "code",
   "execution_count": 1,
   "id": "023f005b-3151-4b8f-845c-3ad3342d7101",
   "metadata": {
    "tags": []
   },
   "outputs": [],
   "source": [
    "\n",
    "import numpy as np\n",
    "import matplotlib.pyplot as plt\n",
    "import os"
   ]
  },
  {
   "cell_type": "code",
   "execution_count": 2,
   "id": "9270fa46-12f6-4df1-97a2-84fdf93da570",
   "metadata": {},
   "outputs": [],
   "source": [
    "import pandas as pd"
   ]
  },
  {
   "cell_type": "code",
   "execution_count": 3,
   "id": "41ebb9bd-f015-4227-9b56-24652f0b818d",
   "metadata": {
    "tags": []
   },
   "outputs": [],
   "source": [
    "project = \"C:\\\\Users\\\\dube.rohit\\\\OneDrive - Texas A&M University\\\\ATUS-analysis-main\\\\ATUS analysis main\\\\atus_analysis\""
   ]
  },
  {
   "cell_type": "code",
   "execution_count": 4,
   "id": "52e9c190-8f5a-40cf-bfd3-7cca04b67395",
   "metadata": {
    "tags": []
   },
   "outputs": [
    {
     "data": {
      "text/plain": [
       "['activity.parquet', 'respondent.parquet']"
      ]
     },
     "execution_count": 4,
     "metadata": {},
     "output_type": "execute_result"
    }
   ],
   "source": [
    "os.listdir(project+'\\\\data\\\\processed')"
   ]
  },
  {
   "cell_type": "code",
   "execution_count": 7,
   "id": "17fd046f-42cd-4b79-8358-8969f9ab4ee5",
   "metadata": {},
   "outputs": [
    {
     "name": "stdout",
     "output_type": "stream",
     "text": [
      "(252808, 399)\n"
     ]
    }
   ],
   "source": [
    "from pathlib import Path\n",
    "import pandas as pd\n",
    "\n",
    "parquet_path = Path(project) / \"data\" / \"processed\" / \"respondent.parquet\"\n",
    "\n",
    "# Sanity check\n",
    "if not parquet_path.exists():\n",
    "    raise FileNotFoundError(f\"Missing file: {parquet_path}\")\n",
    "\n",
    "df_res = pd.read_parquet(parquet_path, engine=\"fastparquet\")\n",
    "print(df_res.shape)\n"
   ]
  },
  {
   "cell_type": "code",
   "execution_count": 14,
   "id": "53ee94d6-1078-4a0f-8a77-d8f9f684ce20",
   "metadata": {
    "tags": []
   },
   "outputs": [
    {
     "data": {
      "text/plain": [
       "array(['TUCASEID', 'TULINENO', 'TESPUHRS', 'TRDTIND1', 'TRDTOCC1',\n",
       "       'TRERNHLY', 'TRERNUPD', 'TRHERNAL', 'TRHHCHILD', 'TRIMIND1',\n",
       "       'TRMJIND1', 'TRMJOCC1', 'TRMJOCGR', 'TRNHHCHILD', 'TRNUMHOU',\n",
       "       'TROHHCHILD', 'TRTALONE', 'TRTCC', 'TRTHHFAMILY', 'TRTNOCHILD',\n",
       "       'TRTNOHH', 'TRTO', 'TRTOHH', 'TRTOHHCHILD', 'TRTONHH',\n",
       "       'TRTONHHCHILD', 'TRTSPONLY', 'TRTSPOUSE', 'TRTUNMPART', 'TRWERNAL',\n",
       "       'TTHR', 'TTOT', 'TTWK', 'TUABSOT', 'TUYEAR', 'TEABSRSN', 'TEERN',\n",
       "       'TEERNH1O', 'TEERNH2', 'TEERNHRO', 'TEERNHRY', 'TEERNPER',\n",
       "       'TEERNRT', 'TEERNUOT', 'TEERNWKP', 'TEHRFTPT', 'TEHRUSL1',\n",
       "       'TEHRUSL2', 'TEIO1COW', 'TEIO1ICD', 'TEIO1OCD', 'TELAYAVL',\n",
       "       'TELAYLK', 'TELKAVL', 'TELKM1', 'TERET1', 'TESCHFT', 'TUBUS',\n",
       "       'TUBUS1', 'TUBUS2OT', 'TUBUSL1', 'TUBUSL2', 'TUBUSL3', 'TUBUSL4',\n",
       "       'TUCC2', 'TUCC4', 'TUFWK', 'TUIO1MFG', 'TUIODP1', 'TUIODP2',\n",
       "       'TUIODP3', 'TULAY', 'TULAY6M', 'TULAYAVR', 'TULAYDT', 'TULK',\n",
       "       'TULKAVR', 'TULKDK1', 'TULKDK2', 'TULKDK3', 'TULKDK4', 'TULKM2',\n",
       "       'TULKM3', 'TULKM4', 'TULKM5', 'TULKM6', 'TULKPS1', 'TULKPS2',\n",
       "       'TULKPS3', 'TULKPS4', 'TUMONTH', 'TRTCCC', 'TRTCCTOT', 'TRTCHILD',\n",
       "       'TRTCOC', 'TRTFAMILY', 'TRTFRIEND', 'TRTHH', 'TUDIS2', 'TURETOT',\n",
       "       'TUSPABS', 'TUSPUSFT', 'TUSPWK', 'TREMODR', 'TUCC9', 'TUDIARYDATE',\n",
       "       'TUDIS', 'TUDIS1', 'TRCHILDNUM', 'TUDIARYDAY', 'TRERNWA',\n",
       "       'TRHOLIDAY', 'TRSPFTPT', 'TRSPPRES', 'TRDPFTPT', 'TUFNWGTP',\n",
       "       'TESPEMPNOT', 'TESCHLVL', 'TESCHENR', 'TEMJOT', 'TELFS',\n",
       "       'TEHRUSLT', 'TRYHHCHILD', 'TRWBMODR', 'TRTALONE_WK', 'TRTCCC_WK',\n",
       "       'TRLVMODR', 'TRTEC', 'TUECYTD', 'TUELDER', 'TUELFREQ', 'TUELNUM',\n",
       "       'TU20FWGT', 'GEDIV', 'GEMETSTA', 'GEPSEUCL', 'GEPSEUST', 'GEREG',\n",
       "       'GESTFIPS', 'GTCBSA', 'GTCO', 'GTMETSTA', 'HEFAMINC', 'HEHOUSUT',\n",
       "       'HEPHONEO', 'HETELAVL', 'HETELHHD', 'HETENURE', 'HRHHID',\n",
       "       'HRHHID2', 'HRHTYPE', 'HRINTSTA', 'HRLONGLK', 'HRMIS', 'HRMONTH',\n",
       "       'HRNUMHOU', 'HRSAMPLE', 'HRSERSUF', 'HRYEAR4', 'HUBUS', 'HUBUSL1',\n",
       "       'HUBUSL2', 'HUBUSL3', 'HUBUSL4', 'HUFAMINC', 'HUFINAL', 'HUHHNUM',\n",
       "       'HUINTTYP', 'HUPRSCNT', 'HURESPLI', 'HUSPNISH', 'HXFAMINC',\n",
       "       'PEABSPDO', 'PEABSRSN', 'PEAFEVER', 'PEAFNOW', 'PEAFWHEN',\n",
       "       'PEAFWHN1', 'PEAFWHN2', 'PEAFWHN3', 'PEAFWHN4', 'PECERT1',\n",
       "       'PECERT2', 'PECERT3', 'PECOHAB', 'PECYC', 'PEDADTYP', 'PEDIPGED',\n",
       "       'PEDISDRS', 'PEDISEAR', 'PEDISEYE', 'PEDISOUT', 'PEDISPHY',\n",
       "       'PEDISREM', 'PEDW4WK', 'PEDWAVL', 'PEDWAVR', 'PEDWLKO', 'PEDWLKWK',\n",
       "       'PEDWRSN', 'PEDWWK', 'PEDWWNTO', 'PEEDUCA', 'PEERN', 'PEERNCOV',\n",
       "       'PEERNH1O', 'PEERNH2', 'PEERNHRO', 'PEERNHRY', 'PEERNLAB',\n",
       "       'PEERNPER', 'PEERNRT', 'PEERNUOT', 'PEERNWKP', 'PEFNTVTY',\n",
       "       'PEGR6COR', 'PEGRPROF', 'PEHGCOMP', 'PEHRACT1', 'PEHRACT2',\n",
       "       'PEHRACTT', 'PEHRAVL', 'PEHRFTPT', 'PEHRRSN1', 'PEHRRSN2',\n",
       "       'PEHRRSN3', 'PEHRUSL1', 'PEHRUSL2', 'PEHRUSLT', 'PEHRWANT',\n",
       "       'PEHSPNON', 'PEIO1COW', 'PEIO1ICD', 'PEIO1OCD', 'PEIO2COW',\n",
       "       'PEIO2ICD', 'PEIO2OCD', 'PEJHRSN', 'PEJHWANT', 'PEJHWKO',\n",
       "       'PELAYAVL', 'PELAYDUR', 'PELAYFTO', 'PELAYLK', 'PELKAVL',\n",
       "       'PELKDUR', 'PELKFTO', 'PELKLL1O', 'PELKLL2O', 'PELKLWO', 'PELKM1',\n",
       "       'PELNDAD', 'PELNMOM', 'PEMARITL', 'PEMJNUM', 'PEMJOT', 'PEMLR',\n",
       "       'PEMNTVTY', 'PEMOMTYP', 'PEMS123', 'PENATVTY', 'PENLFACT',\n",
       "       'PENLFJH', 'PENLFRET', 'PEPARENT', 'PEPDEMP1', 'PEPDEMP2',\n",
       "       'PERET1', 'PERRP', 'PESCHENR', 'PESCHFT', 'PESCHLVL', 'PESEX',\n",
       "       'PESPOUSE', 'PRABSREA', 'PRAGNA', 'PRCITSHP', 'PRCIVLF', 'PRCOW1',\n",
       "       'PRCOW2', 'PRCOWPG', 'PRDASIAN', 'PRDISC', 'PRDISFLG', 'PRDTCOW1',\n",
       "       'PRDTCOW2', 'PRDTHSP', 'PRDTIND1', 'PRDTIND2', 'PRDTOCC1',\n",
       "       'PRDTOCC2', 'PREMP', 'PREMPHRS', 'PREMPNOT', 'PRERELG', 'PRERNHLY',\n",
       "       'PRERNWA', 'PREXPLF', 'PRFAMNUM', 'PRFAMREL', 'PRFAMTYP', 'PRFTLF',\n",
       "       'PRHERNAL', 'PRHRUSL', 'PRIMIND1', 'PRIMIND2', 'PRINUYER',\n",
       "       'PRIOELG', 'PRJOBSEA', 'PRMARSTA', 'PRMJIND1', 'PRMJIND2',\n",
       "       'PRMJOCC1', 'PRMJOCC2', 'PRMJOCGR', 'PRNAGPWS', 'PRNAGWS',\n",
       "       'PRNLFSCH', 'PRNMCHLD', 'PRPERTYP', 'PRPTHRS', 'PRPTREA', 'PRSJMJ',\n",
       "       'PRTAGE', 'PRUNEDUR', 'PRUNTYPE', 'PRWERNAL', 'PRWKSCH',\n",
       "       'PRWKSTAT', 'PRWNTJOB', 'PTDTRACE', 'PTHR', 'PTNMEMP1', 'PTNMEMP2',\n",
       "       'PTOT', 'PTWK', 'PUABSOT', 'PUAFEVER', 'PUBUS1', 'PUBUS2OT',\n",
       "       'PUDIS', 'PUDIS1', 'PUDIS2', 'PUHROFF1', 'PUHROFF2', 'PUHROT1',\n",
       "       'PUHROT2', 'PUJHDP1O', 'PULAY', 'PULAY6M', 'PULAYAVR', 'PULAYDT',\n",
       "       'PULINENO', 'PULK', 'PULKAVR', 'PULKDK1', 'PULKDK2', 'PULKDK3',\n",
       "       'PULKDK4', 'PULKM2', 'PULKM3', 'PULKM4', 'PULKM5', 'PULKM6',\n",
       "       'PULKPS1', 'PULKPS2', 'PULKPS3', 'PULKPS4', 'PUPELIG', 'PURETOT',\n",
       "       'PUSLFPRX', 'PUWK', 'TRATUSR', 'TUBWGT', 'PTCOVID1', 'PTCOVID2',\n",
       "       'PTCOVID3', 'PTCOVID4', 'PTCOVID5W', 'PEPAR1', 'PEPAR2',\n",
       "       'PEPAR1TYP', 'PEPAR2TYP', 'PRERNMIN', 'PTCOVR1', 'PTCOVR2',\n",
       "       'PTCOVR3', 'PTCOVR4', 'PXCOVR1', 'PXCOVR2', 'PXCOVR3', 'PXCOVR4',\n",
       "       'PTTLWK', 'PTTLWKHR', 'PXTLWK', 'PXTLWKHR', 'TEAGE', 'TESEX',\n",
       "       'HH_CHILD_U6'], dtype=object)"
      ]
     },
     "execution_count": 14,
     "metadata": {},
     "output_type": "execute_result"
    }
   ],
   "source": [
    "np.array(df_res.columns)"
   ]
  },
  {
   "cell_type": "code",
   "execution_count": null,
   "id": "b094197e-55a1-4164-9ead-8802576a3db4",
   "metadata": {},
   "outputs": [],
   "source": []
  }
 ],
 "metadata": {
  "kernelspec": {
   "display_name": "bootstrap_pi",
   "language": "python",
   "name": "bootstrap_pi"
  },
  "language_info": {
   "codemirror_mode": {
    "name": "ipython",
    "version": 3
   },
   "file_extension": ".py",
   "mimetype": "text/x-python",
   "name": "python",
   "nbconvert_exporter": "python",
   "pygments_lexer": "ipython3",
   "version": "3.10.14"
  }
 },
 "nbformat": 4,
 "nbformat_minor": 5
}
